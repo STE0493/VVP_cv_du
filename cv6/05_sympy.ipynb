{
 "cells": [
  {
   "attachments": {},
   "cell_type": "markdown",
   "metadata": {},
   "source": [
    "# SymPy - symbolické výpočty v Pythonu\n",
    "**Na úvod**\n",
    "\n",
    "Někteří z vás možná znáte nějaký systém pro *počítačovou algebru* (Computer Algebra Systems -- CAS), např. Maple, Mathematica, Derive, Maxima, Reduce. Pro Python existují dva velké projekty počítačové algebry:\n",
    "\n",
    "* [SymPy](http://sympy.org) - modul který může být použit v jakémkoli Python programu a je dobře podporován v Jupyter Notebook. \n",
    "* [Sage](http://www.sagemath.org/) - toto je už kompletní (a velice obsáhlý) systém, který si klade za cíl být open source konkurentem komerčním produktům.\n",
    "\n",
    "My se tady podíváme na některé základní možnosti SymPy."
   ]
  },
  {
   "cell_type": "code",
   "execution_count": 1,
   "metadata": {},
   "outputs": [],
   "source": [
    "import sympy"
   ]
  },
  {
   "cell_type": "code",
   "execution_count": 2,
   "metadata": {},
   "outputs": [],
   "source": [
    "sympy.init_printing()"
   ]
  },
  {
   "cell_type": "markdown",
   "metadata": {},
   "source": [
    "## Definujeme symboly\n",
    "\n",
    "Pro symbolické výpočty potřebujeme pochopitelně symboly, tak jak jsme zvyklí už z matematiky na základní škole. V Pythonu samotném máme sice proměnné, které jsou v podstatě také symboly, ale operace s nimy se řídí zcela jinými pravidly než potřebujeme pro symbolické výpočty. Naštěstí tu je třída `sympy.Symbol`."
   ]
  },
  {
   "cell_type": "code",
   "execution_count": 36,
   "metadata": {},
   "outputs": [
    {
     "data": {
      "text/latex": [
       "$\\displaystyle x$"
      ],
      "text/plain": [
       "x"
      ]
     },
     "execution_count": 36,
     "metadata": {},
     "output_type": "execute_result"
    }
   ],
   "source": [
    "x = sympy.Symbol('x')\n",
    "x"
   ]
  },
  {
   "cell_type": "markdown",
   "metadata": {},
   "source": [
    "Co když napíšeme něco trochu složitějšího."
   ]
  },
  {
   "cell_type": "code",
   "execution_count": 4,
   "metadata": {},
   "outputs": [
    {
     "data": {
      "text/latex": [
       "$\\displaystyle \\frac{x}{2} + \\frac{\\pi}{2}$"
      ],
      "text/plain": [
       "x   π\n",
       "─ + ─\n",
       "2   2"
      ]
     },
     "execution_count": 4,
     "metadata": {},
     "output_type": "execute_result"
    }
   ],
   "source": [
    "expression = (sympy.pi + x) / 2\n",
    "expression"
   ]
  },
  {
   "cell_type": "code",
   "execution_count": 5,
   "metadata": {},
   "outputs": [
    {
     "data": {
      "text/plain": [
       "sympy.core.add.Add"
      ]
     },
     "execution_count": 5,
     "metadata": {},
     "output_type": "execute_result"
    }
   ],
   "source": [
    "# co jsme to vůbec dostali za typ\n",
    "type(expression)\n"
   ]
  },
  {
   "attachments": {},
   "cell_type": "markdown",
   "metadata": {},
   "source": [
    "Můžeme také přiřadit symbolům nějaké vlastnosti (to se pak pochopitelně může projevit v dalších výpočtech)."
   ]
  },
  {
   "cell_type": "code",
   "execution_count": 6,
   "metadata": {},
   "outputs": [
    {
     "data": {
      "text/plain": [
       "True"
      ]
     },
     "execution_count": 6,
     "metadata": {},
     "output_type": "execute_result"
    }
   ],
   "source": [
    "a = sympy.Symbol('a', real=True)\n",
    "a.is_real"
   ]
  },
  {
   "cell_type": "code",
   "execution_count": 7,
   "metadata": {},
   "outputs": [],
   "source": [
    "b = sympy.Symbol('b', positive=True)"
   ]
  },
  {
   "cell_type": "code",
   "execution_count": 8,
   "metadata": {},
   "outputs": [
    {
     "data": {
      "text/plain": [
       "False"
      ]
     },
     "execution_count": 8,
     "metadata": {},
     "output_type": "execute_result"
    }
   ],
   "source": [
    "b.is_negative"
   ]
  },
  {
   "cell_type": "code",
   "execution_count": 9,
   "metadata": {},
   "outputs": [
    {
     "data": {
      "text/latex": [
       "$\\displaystyle \\text{True}$"
      ],
      "text/plain": [
       "True"
      ]
     },
     "execution_count": 9,
     "metadata": {},
     "output_type": "execute_result"
    }
   ],
   "source": [
    "b > 0"
   ]
  },
  {
   "cell_type": "markdown",
   "metadata": {},
   "source": [
    "### Zlomky"
   ]
  },
  {
   "cell_type": "code",
   "execution_count": 10,
   "metadata": {},
   "outputs": [
    {
     "data": {
      "text/latex": [
       "$\\displaystyle \\left( \\frac{4}{5}, \\  \\frac{5}{4}\\right)$"
      ],
      "text/plain": [
       "(4/5, 5/4)"
      ]
     },
     "execution_count": 10,
     "metadata": {},
     "output_type": "execute_result"
    }
   ],
   "source": [
    "r1 = sympy.Rational(4,5)\n",
    "r2 = sympy.Rational(5,4)\n",
    "r1, r2"
   ]
  },
  {
   "cell_type": "code",
   "execution_count": 11,
   "metadata": {},
   "outputs": [
    {
     "data": {
      "text/latex": [
       "$\\displaystyle \\frac{41}{20}$"
      ],
      "text/plain": [
       "41\n",
       "──\n",
       "20"
      ]
     },
     "execution_count": 11,
     "metadata": {},
     "output_type": "execute_result"
    }
   ],
   "source": [
    "r1 + r2"
   ]
  },
  {
   "cell_type": "markdown",
   "metadata": {},
   "source": [
    "## Vyčíslování"
   ]
  },
  {
   "cell_type": "code",
   "execution_count": 12,
   "metadata": {},
   "outputs": [
    {
     "data": {
      "text/latex": [
       "$\\displaystyle \\left(x + \\pi\\right)^{2}$"
      ],
      "text/plain": [
       "       2\n",
       "(x + π) "
      ]
     },
     "execution_count": 12,
     "metadata": {},
     "output_type": "execute_result"
    }
   ],
   "source": [
    "y = (x + sympy.pi)**2\n",
    "y"
   ]
  },
  {
   "cell_type": "markdown",
   "metadata": {},
   "source": [
    "Numerickou hodnotu můžeme získat pomocí funkce `N`. Často také využijeme metodu `subs`:"
   ]
  },
  {
   "cell_type": "code",
   "execution_count": 19,
   "metadata": {},
   "outputs": [
    {
     "data": {
      "text/latex": [
       "$\\displaystyle \\left(2 + \\pi\\right)^{2}$"
      ],
      "text/plain": [
       "       2\n",
       "(2 + π) "
      ]
     },
     "execution_count": 19,
     "metadata": {},
     "output_type": "execute_result"
    }
   ],
   "source": [
    "expression = y.subs(x, 2)\n",
    "expression\n"
   ]
  },
  {
   "cell_type": "code",
   "execution_count": 20,
   "metadata": {},
   "outputs": [
    {
     "data": {
      "text/latex": [
       "$\\displaystyle 26.436$"
      ],
      "text/plain": [
       "26.436"
      ]
     },
     "execution_count": 20,
     "metadata": {},
     "output_type": "execute_result"
    }
   ],
   "source": [
    "\n",
    "sympy.N(expression, n=5)\n"
   ]
  },
  {
   "cell_type": "markdown",
   "metadata": {},
   "source": [
    "To samé pomocí metody `evalf`. Pro obojí můžeme zadat počet platných číslic."
   ]
  },
  {
   "cell_type": "code",
   "execution_count": 21,
   "metadata": {},
   "outputs": [
    {
     "data": {
      "text/latex": [
       "$\\displaystyle 3.141592653589793238462643383279502884197169399375105820974944592307816406286208998628034825342117068$"
      ],
      "text/plain": [
       "3.1415926535897932384626433832795028841971693993751058209749445923078164062862\n",
       "08998628034825342117068"
      ]
     },
     "execution_count": 21,
     "metadata": {},
     "output_type": "execute_result"
    }
   ],
   "source": [
    "sympy.pi.evalf(100)"
   ]
  },
  {
   "cell_type": "markdown",
   "metadata": {},
   "source": [
    "Pokud chceme vytvořit ze symbolického výrazu funkci, použijeme `lambdify`:"
   ]
  },
  {
   "cell_type": "code",
   "execution_count": 22,
   "metadata": {},
   "outputs": [
    {
     "name": "stdout",
     "output_type": "stream",
     "text": [
      "(x + pi)**2\n",
      "<function _lambdifygenerated at 0x000001AAA74DB550>\n"
     ]
    }
   ],
   "source": [
    "# první argument je seznam proměnných (podobně jako pro lambda funkce)\n",
    "f_sympy = (x + sympy.pi)**2\n",
    "print(f_sympy)\n",
    "\n",
    "f_x = sympy.lambdify([x], f_sympy)\n",
    "print(f_x)"
   ]
  },
  {
   "cell_type": "code",
   "execution_count": 17,
   "metadata": {},
   "outputs": [
    {
     "data": {
      "text/plain": [
       "[<matplotlib.lines.Line2D at 0x1aaa6d61fa0>]"
      ]
     },
     "execution_count": 17,
     "metadata": {},
     "output_type": "execute_result"
    },
    {
     "data": {
      "image/png": "[encoded data removed]",
      "text/plain": [
       "<Figure size 432x288 with 1 Axes>"
      ]
     },
     "metadata": {
      "needs_background": "light"
     },
     "output_type": "display_data"
    }
   ],
   "source": [
    "import numpy as np\n",
    "import matplotlib.pyplot as plt\n",
    "\n",
    "xa = np.linspace(-10, 10)\n",
    "plt.plot(xa, f_x(xa))"
   ]
  },
  {
   "cell_type": "markdown",
   "metadata": {},
   "source": [
    "## Symbolické úpravy\n",
    "\n",
    "Toto je velice důležitá aplikace, která nám může v mnoha případech ušetřit nemálo práce.\n",
    "\n",
    "### Expand a factor\n",
    "\n",
    "Začněme pracovat s polynomem, zadaným jako"
   ]
  },
  {
   "cell_type": "code",
   "execution_count": 23,
   "metadata": {},
   "outputs": [
    {
     "data": {
      "text/latex": [
       "$\\displaystyle \\left(x + 1\\right) \\left(x + 2\\right) \\left(x + 3\\right)$"
      ],
      "text/plain": [
       "(x + 1)⋅(x + 2)⋅(x + 3)"
      ]
     },
     "execution_count": 23,
     "metadata": {},
     "output_type": "execute_result"
    }
   ],
   "source": [
    "y = (x+1)*(x+2)*(x+3)\n",
    "y"
   ]
  },
  {
   "cell_type": "markdown",
   "metadata": {},
   "source": [
    "Polynom rozvineme pomocí `expand`:"
   ]
  },
  {
   "cell_type": "code",
   "execution_count": 24,
   "metadata": {},
   "outputs": [
    {
     "data": {
      "text/latex": [
       "$\\displaystyle x^{3} + 6 x^{2} + 11 x + 6$"
      ],
      "text/plain": [
       " 3      2           \n",
       "x  + 6⋅x  + 11⋅x + 6"
      ]
     },
     "execution_count": 24,
     "metadata": {},
     "output_type": "execute_result"
    }
   ],
   "source": [
    "z = sympy.expand(y)\n",
    "z"
   ]
  },
  {
   "cell_type": "markdown",
   "metadata": {},
   "source": [
    "Pomocí `factor` můžeme dostat zpět původní faktorizovaný výraz."
   ]
  },
  {
   "cell_type": "code",
   "execution_count": 25,
   "metadata": {},
   "outputs": [
    {
     "data": {
      "text/latex": [
       "$\\displaystyle \\left(x + 1\\right) \\left(x + 2\\right) \\left(x + 3\\right)$"
      ],
      "text/plain": [
       "(x + 1)⋅(x + 2)⋅(x + 3)"
      ]
     },
     "execution_count": 25,
     "metadata": {},
     "output_type": "execute_result"
    }
   ],
   "source": [
    "sympy.factor(z)"
   ]
  },
  {
   "cell_type": "markdown",
   "metadata": {},
   "source": [
    "`expand` můžeme použít i pro trigonometrické funkce:"
   ]
  },
  {
   "cell_type": "code",
   "execution_count": 26,
   "metadata": {},
   "outputs": [
    {
     "data": {
      "text/latex": [
       "$\\displaystyle \\sin{\\left(a \\right)} \\cos{\\left(b \\right)} + \\sin{\\left(b \\right)} \\cos{\\left(a \\right)}$"
      ],
      "text/plain": [
       "sin(a)⋅cos(b) + sin(b)⋅cos(a)"
      ]
     },
     "execution_count": 26,
     "metadata": {},
     "output_type": "execute_result"
    }
   ],
   "source": [
    "sympy.expand(sympy.sin(a + b), trig=True)"
   ]
  },
  {
   "cell_type": "markdown",
   "metadata": {},
   "source": [
    "### Zjednodušování pomocí `simplify`"
   ]
  },
  {
   "cell_type": "code",
   "execution_count": 27,
   "metadata": {},
   "outputs": [
    {
     "data": {
      "text/latex": [
       "$\\displaystyle \\sin^{2}{\\left(a \\right)} + \\cos^{2}{\\left(a \\right)}$"
      ],
      "text/plain": [
       "   2         2   \n",
       "sin (a) + cos (a)"
      ]
     },
     "execution_count": 27,
     "metadata": {},
     "output_type": "execute_result"
    }
   ],
   "source": [
    "# tohle by měla být hračka\n",
    "expression = sympy.sin(a)**2 + sympy.cos(a)**2\n",
    "expression\n"
   ]
  },
  {
   "cell_type": "code",
   "execution_count": 28,
   "metadata": {},
   "outputs": [
    {
     "data": {
      "text/latex": [
       "$\\displaystyle 1$"
      ],
      "text/plain": [
       "1"
      ]
     },
     "execution_count": 28,
     "metadata": {},
     "output_type": "execute_result"
    }
   ],
   "source": [
    "sympy.simplify(expression)\n"
   ]
  },
  {
   "cell_type": "markdown",
   "metadata": {},
   "source": [
    "## Derivace a integrály\n",
    "\n",
    "SymPy umí symbolicky derivovat (je tedy aspoň tak dobrý jako cvičená opice) a i integrovat."
   ]
  },
  {
   "cell_type": "code",
   "execution_count": 29,
   "metadata": {},
   "outputs": [
    {
     "data": {
      "text/latex": [
       "$\\displaystyle \\left(x^{2} + \\sin{\\left(x \\right)}\\right)^{2}$"
      ],
      "text/plain": [
       "             2\n",
       "⎛ 2         ⎞ \n",
       "⎝x  + sin(x)⎠ "
      ]
     },
     "execution_count": 29,
     "metadata": {},
     "output_type": "execute_result"
    }
   ],
   "source": [
    "y = (x**2 + sympy.sin(x))**2\n",
    "y"
   ]
  },
  {
   "cell_type": "code",
   "execution_count": 30,
   "metadata": {},
   "outputs": [
    {
     "data": {
      "text/latex": [
       "$\\displaystyle \\left(4 x + 2 \\cos{\\left(x \\right)}\\right) \\left(x^{2} + \\sin{\\left(x \\right)}\\right)$"
      ],
      "text/plain": [
       "                 ⎛ 2         ⎞\n",
       "(4⋅x + 2⋅cos(x))⋅⎝x  + sin(x)⎠"
      ]
     },
     "execution_count": 30,
     "metadata": {},
     "output_type": "execute_result"
    }
   ],
   "source": [
    "sympy.diff(y, x)"
   ]
  },
  {
   "cell_type": "markdown",
   "metadata": {},
   "source": [
    "Derivovat můžeme i funkce více proměnných."
   ]
  },
  {
   "cell_type": "code",
   "execution_count": 31,
   "metadata": {},
   "outputs": [
    {
     "data": {
      "text/latex": [
       "$\\displaystyle \\left(x^{3} + 2 x^{2} y\\right) \\cos{\\left(y \\right)}$"
      ],
      "text/plain": [
       "⎛ 3      2  ⎞       \n",
       "⎝x  + 2⋅x ⋅y⎠⋅cos(y)"
      ]
     },
     "execution_count": 31,
     "metadata": {},
     "output_type": "execute_result"
    }
   ],
   "source": [
    "x = sympy.Symbol('x')\n",
    "y = sympy.Symbol('y')\n",
    "z = sympy.cos(y) * (x**3 + 2*x**2*y)\n",
    "z"
   ]
  },
  {
   "cell_type": "markdown",
   "metadata": {},
   "source": [
    "Tohle spočítá\n",
    "\n",
    "$\\displaystyle \\frac{{{{\\rm{d}}^3}z}}{{{\\rm{d}}x{\\rm{d}}{y^2}}} $"
   ]
  },
  {
   "cell_type": "code",
   "execution_count": 32,
   "metadata": {},
   "outputs": [
    {
     "data": {
      "text/latex": [
       "$\\displaystyle - x \\left(\\left(3 x + 4 y\\right) \\cos{\\left(y \\right)} + 8 \\sin{\\left(y \\right)}\\right)$"
      ],
      "text/plain": [
       "-x⋅((3⋅x + 4⋅y)⋅cos(y) + 8⋅sin(y))"
      ]
     },
     "execution_count": 32,
     "metadata": {},
     "output_type": "execute_result"
    }
   ],
   "source": [
    "sympy.diff(z, x, 1, y, 2)"
   ]
  },
  {
   "cell_type": "markdown",
   "metadata": {},
   "source": [
    "### Integrace"
   ]
  },
  {
   "cell_type": "code",
   "execution_count": 33,
   "metadata": {},
   "outputs": [
    {
     "data": {
      "text/latex": [
       "$\\displaystyle \\sin{\\left(x y \\right)} \\cos{\\left(x \\right)}$"
      ],
      "text/plain": [
       "sin(x⋅y)⋅cos(x)"
      ]
     },
     "execution_count": 33,
     "metadata": {},
     "output_type": "execute_result"
    }
   ],
   "source": [
    "f = sympy.sin(x * y) * sympy.cos(x)\n",
    "f"
   ]
  },
  {
   "cell_type": "code",
   "execution_count": 34,
   "metadata": {},
   "outputs": [
    {
     "data": {
      "text/latex": [
       "$\\displaystyle \\begin{cases} - \\frac{\\sin^{2}{\\left(x \\right)}}{2} & \\text{for}\\: y = -1 \\\\\\frac{\\sin^{2}{\\left(x \\right)}}{2} & \\text{for}\\: y = 1 \\\\- \\frac{y \\cos{\\left(x \\right)} \\cos{\\left(x y \\right)}}{y^{2} - 1} - \\frac{\\sin{\\left(x \\right)} \\sin{\\left(x y \\right)}}{y^{2} - 1} & \\text{otherwise} \\end{cases}$"
      ],
      "text/plain": [
       "⎧                  2                              \n",
       "⎪              -sin (x)                           \n",
       "⎪              ─────────                for y = -1\n",
       "⎪                  2                              \n",
       "⎪                                                 \n",
       "⎪                  2                              \n",
       "⎪               sin (x)                           \n",
       "⎨               ───────                 for y = 1 \n",
       "⎪                  2                              \n",
       "⎪                                                 \n",
       "⎪  y⋅cos(x)⋅cos(x⋅y)   sin(x)⋅sin(x⋅y)            \n",
       "⎪- ───────────────── - ───────────────  otherwise \n",
       "⎪         2                  2                    \n",
       "⎪        y  - 1             y  - 1                \n",
       "⎩                                                 "
      ]
     },
     "execution_count": 34,
     "metadata": {},
     "output_type": "execute_result"
    }
   ],
   "source": [
    "sympy.integrate(f, x)"
   ]
  },
  {
   "cell_type": "code",
   "execution_count": 35,
   "metadata": {},
   "outputs": [
    {
     "data": {
      "text/latex": [
       "$\\displaystyle \\left(\\begin{cases} - \\frac{\\cos{\\left(x y \\right)}}{x} & \\text{for}\\: x \\neq 0 \\\\0 & \\text{otherwise} \\end{cases}\\right) \\cos{\\left(x \\right)}$"
      ],
      "text/plain": [
       "⎛⎧-cos(x⋅y)            ⎞       \n",
       "⎜⎪──────────  for x ≠ 0⎟       \n",
       "⎜⎨    x                ⎟⋅cos(x)\n",
       "⎜⎪                     ⎟       \n",
       "⎝⎩    0       otherwise⎠       "
      ]
     },
     "execution_count": 35,
     "metadata": {},
     "output_type": "execute_result"
    }
   ],
   "source": [
    "sympy.integrate(f, y)"
   ]
  },
  {
   "attachments": {},
   "cell_type": "markdown",
   "metadata": {},
   "source": [
    "## Řešení rovnic\n",
    "Rovnice můžeme řešit pomocí `solve`, prvním argumentem je list výrazů, které musí být rovny nule, druhým je touple symbolů, pro které chceme nalézt řešení."
   ]
  },
  {
   "attachments": {},
   "cell_type": "markdown",
   "metadata": {},
   "source": [
    "**Příklad:** Hledání předpisu lineární funkce, která ma na daném trojúhelníku hodnotu 0 ve dvou bodech a 1 ve třetím bodě."
   ]
  },
  {
   "cell_type": "code",
   "execution_count": 37,
   "metadata": {},
   "outputs": [
    {
     "data": {
      "text/latex": [
       "$\\displaystyle \\left[ a x_{1} + b y_{1} + c - 1, \\  a x_{2} + b y_{2} + c, \\  a x_{3} + b y_{3} + c\\right]$"
      ],
      "text/plain": [
       "[a⋅x₁ + b⋅y₁ + c - 1, a⋅x₂ + b⋅y₂ + c, a⋅x₃ + b⋅y₃ + c]"
      ]
     },
     "execution_count": 37,
     "metadata": {},
     "output_type": "execute_result"
    }
   ],
   "source": [
    "import sympy as sp\n",
    "\n",
    "# proměnné v souřadnicovém systému\n",
    "x, y = sp.symbols('x y')\n",
    "\n",
    "# proměnné reprezentující souřadnice bodů\n",
    "x1, y1, x2, y2, x3, y3 = sp.symbols('x1 y1 x2 y2 x3 y3')\n",
    "\n",
    "# proměnné reprezentující parametry lineární funkce ve 2D\n",
    "a, b, c = sp.symbols('a b c')\n",
    "\n",
    "# takto vypadá obecně lineární funkce ve 2D\n",
    "phi = a * x + b * y + c\n",
    "\n",
    "# systém rovnic pro 3 body, v prvním bodě je phi = 1 v druhém bodě je phi = 0 a v třetím bodě je phi = 0\n",
    "conditions_phi = [\n",
    "    phi.subs({x: x1, y: y1}) - 1,\n",
    "    phi.subs({x: x2, y: y2}),\n",
    "    phi.subs({x: x3, y: y3})\n",
    "]\n",
    "conditions_phi\n"
   ]
  },
  {
   "cell_type": "code",
   "execution_count": 38,
   "metadata": {},
   "outputs": [
    {
     "data": {
      "text/latex": [
       "$\\displaystyle \\left\\{ a : \\frac{y_{2} - y_{3}}{x_{1} y_{2} - x_{1} y_{3} - x_{2} y_{1} + x_{2} y_{3} + x_{3} y_{1} - x_{3} y_{2}}, \\  b : \\frac{- x_{2} + x_{3}}{x_{1} y_{2} - x_{1} y_{3} - x_{2} y_{1} + x_{2} y_{3} + x_{3} y_{1} - x_{3} y_{2}}, \\  c : \\frac{x_{2} y_{3} - x_{3} y_{2}}{x_{1} y_{2} - x_{1} y_{3} - x_{2} y_{1} + x_{2} y_{3} + x_{3} y_{1} - x_{3} y_{2}}\\right\\}$"
      ],
      "text/plain": [
       "⎧                      y₂ - y₃                                           -x₂ +\n",
       "⎨a: ─────────────────────────────────────────────, b: ────────────────────────\n",
       "⎩   x₁⋅y₂ - x₁⋅y₃ - x₂⋅y₁ + x₂⋅y₃ + x₃⋅y₁ - x₃⋅y₂     x₁⋅y₂ - x₁⋅y₃ - x₂⋅y₁ + \n",
       "\n",
       " x₃                                       x₂⋅y₃ - x₃⋅y₂                ⎫\n",
       "─────────────────────, c: ─────────────────────────────────────────────⎬\n",
       "x₂⋅y₃ + x₃⋅y₁ - x₃⋅y₂     x₁⋅y₂ - x₁⋅y₃ - x₂⋅y₁ + x₂⋅y₃ + x₃⋅y₁ - x₃⋅y₂⎭"
      ]
     },
     "execution_count": 38,
     "metadata": {},
     "output_type": "execute_result"
    }
   ],
   "source": [
    "# spočteme, jaké musí být hodnoty a, b a c, aby byl systém rovnic splněn\n",
    "coeffs_phi = sp.solve(conditions_phi, (a, b, c))\n",
    "\n",
    "coeffs_phi\n"
   ]
  },
  {
   "cell_type": "code",
   "execution_count": 39,
   "metadata": {},
   "outputs": [
    {
     "data": {
      "text/latex": [
       "$\\displaystyle \\frac{x \\left(y_{2} - y_{3}\\right)}{x_{1} y_{2} - x_{1} y_{3} - x_{2} y_{1} + x_{2} y_{3} + x_{3} y_{1} - x_{3} y_{2}} + \\frac{y \\left(- x_{2} + x_{3}\\right)}{x_{1} y_{2} - x_{1} y_{3} - x_{2} y_{1} + x_{2} y_{3} + x_{3} y_{1} - x_{3} y_{2}} + \\frac{x_{2} y_{3} - x_{3} y_{2}}{x_{1} y_{2} - x_{1} y_{3} - x_{2} y_{1} + x_{2} y_{3} + x_{3} y_{1} - x_{3} y_{2}}$"
      ],
      "text/plain": [
       "                 x⋅(y₂ - y₃)                                     y⋅(-x₂ + x₃) \n",
       "───────────────────────────────────────────── + ──────────────────────────────\n",
       "x₁⋅y₂ - x₁⋅y₃ - x₂⋅y₁ + x₂⋅y₃ + x₃⋅y₁ - x₃⋅y₂   x₁⋅y₂ - x₁⋅y₃ - x₂⋅y₁ + x₂⋅y₃ \n",
       "\n",
       "                                  x₂⋅y₃ - x₃⋅y₂                \n",
       "─────────────── + ─────────────────────────────────────────────\n",
       "+ x₃⋅y₁ - x₃⋅y₂   x₁⋅y₂ - x₁⋅y₃ - x₂⋅y₁ + x₂⋅y₃ + x₃⋅y₁ - x₃⋅y₂"
      ]
     },
     "execution_count": 39,
     "metadata": {},
     "output_type": "execute_result"
    }
   ],
   "source": [
    "# použijeme řešení pro vytvoření hledané funkce\n",
    "phi = phi.subs(coeffs_phi)\n",
    "phi\n"
   ]
  },
  {
   "attachments": {},
   "cell_type": "markdown",
   "metadata": {},
   "source": [
    "## Generace kódu\n",
    "\n",
    "Automatická generace kódu je funkcionalita, kterou oceníme ve chvíli, kdy cheme implementovat naše analytické výsledky v numerické simulaci. Místo abychom začali ručně přepisovat do programovacího jazyka jako je např. Fortran nebo C, může SymPy tuto nezábavnou práci udělat za nás. Navíc při tom neudělá chyby."
   ]
  },
  {
   "cell_type": "code",
   "execution_count": 40,
   "metadata": {},
   "outputs": [
    {
     "data": {
      "text/latex": [
       "$\\displaystyle e^{y} \\sin{\\left(x y^{2} \\right)}$"
      ],
      "text/plain": [
       " y    ⎛   2⎞\n",
       "ℯ ⋅sin⎝x⋅y ⎠"
      ]
     },
     "execution_count": 40,
     "metadata": {},
     "output_type": "execute_result"
    }
   ],
   "source": [
    "# řekněme že chceme někde použít tento výsledek\n",
    "f = sympy.sin( x * y**2) * sympy.exp(y)\n",
    "f"
   ]
  },
  {
   "cell_type": "code",
   "execution_count": 41,
   "metadata": {},
   "outputs": [],
   "source": [
    "import sympy.utilities.codegen"
   ]
  },
  {
   "cell_type": "code",
   "execution_count": 42,
   "metadata": {},
   "outputs": [
    {
     "name": "stdout",
     "output_type": "stream",
     "text": [
      "!******************************************************************************\n",
      "!*                       Code generated with sympy 1.9                        *\n",
      "!*                                                                            *\n",
      "!*              See http://www.sympy.org/ for more information.               *\n",
      "!*                                                                            *\n",
      "!*                       This file is part of 'project'                       *\n",
      "!******************************************************************************\n",
      "\n",
      "REAL*8 function f_fortran(x, y)\n",
      "implicit none\n",
      "REAL*8, intent(in) :: x\n",
      "REAL*8, intent(in) :: y\n",
      "\n",
      "f_fortran = exp(y)*sin(x*y**2)\n",
      "\n",
      "end function\n",
      "\n"
     ]
    }
   ],
   "source": [
    "# exportujeme do jazyka Fortran\n",
    "f_source = sympy.utilities.codegen.codegen((\"f_fortran\", f), \"F95\", \"f_fortran\")\n",
    "print(f_source[0][1])"
   ]
  },
  {
   "cell_type": "code",
   "execution_count": 43,
   "metadata": {},
   "outputs": [
    {
     "name": "stdout",
     "output_type": "stream",
     "text": [
      "/******************************************************************************\n",
      " *                       Code generated with sympy 1.9                        *\n",
      " *                                                                            *\n",
      " *              See http://www.sympy.org/ for more information.               *\n",
      " *                                                                            *\n",
      " *                       This file is part of 'project'                       *\n",
      " ******************************************************************************/\n",
      "#include \"f_C.h\"\n",
      "#include <math.h>\n",
      "\n",
      "double f_C(double x, double y) {\n",
      "\n",
      "   double f_C_result;\n",
      "   f_C_result = exp(y)*sin(x*pow(y, 2));\n",
      "   return f_C_result;\n",
      "\n",
      "}\n",
      "\n"
     ]
    }
   ],
   "source": [
    "# exportujeme do jazyka C\n",
    "f_source = sympy.utilities.codegen.codegen((\"f_C\", f), \"C\", \"f_C\")\n",
    "print(f_source[0][1])"
   ]
  },
  {
   "cell_type": "code",
   "execution_count": 44,
   "metadata": {},
   "outputs": [
    {
     "name": "stdout",
     "output_type": "stream",
     "text": [
      "function out1 = f_octave(x, y)\n",
      "  %F_OCTAVE  Autogenerated by sympy\n",
      "  %   Code generated with sympy 1.9\n",
      "  %\n",
      "  %   See http://www.sympy.org/ for more information.\n",
      "  %\n",
      "  %   This file is part of 'project'\n",
      "\n",
      "  out1 = exp(y).*sin(x.*y.^2);\n",
      "\n",
      "end\n",
      "\n"
     ]
    }
   ],
   "source": [
    "# exportujeme do jazyka Octave/Matlab\n",
    "f_source = sympy.utilities.codegen.codegen((\"f_octave\", f), \"Octave\", \"f_octave\")\n",
    "print(f_source[0][1])"
   ]
  },
  {
   "cell_type": "code",
   "execution_count": 45,
   "metadata": {},
   "outputs": [
    {
     "name": "stdout",
     "output_type": "stream",
     "text": [
      "Help on function codegen in module sympy.utilities.codegen:\n",
      "\n",
      "codegen(name_expr, language=None, prefix=None, project='project', to_files=False, header=True, empty=True, argument_sequence=None, global_vars=None, standard=None, code_gen=None, printer=None)\n",
      "    Generate source code for expressions in a given language.\n",
      "    \n",
      "    Parameters\n",
      "    ==========\n",
      "    \n",
      "    name_expr : tuple, or list of tuples\n",
      "        A single (name, expression) tuple or a list of (name, expression)\n",
      "        tuples.  Each tuple corresponds to a routine.  If the expression is\n",
      "        an equality (an instance of class Equality) the left hand side is\n",
      "        considered an output argument.  If expression is an iterable, then\n",
      "        the routine will have multiple outputs.\n",
      "    \n",
      "    language : string,\n",
      "        A string that indicates the source code language.  This is case\n",
      "        insensitive.  Currently, 'C', 'F95' and 'Octave' are supported.\n",
      "        'Octave' generates code compatible with both Octave and Matlab.\n",
      "    \n",
      "    prefix : string, optional\n",
      "        A prefix for the names of the files that contain the source code.\n",
      "        Language-dependent suffixes will be appended.  If omitted, the name\n",
      "        of the first name_expr tuple is used.\n",
      "    \n",
      "    project : string, optional\n",
      "        A project name, used for making unique preprocessor instructions.\n",
      "        [default: \"project\"]\n",
      "    \n",
      "    to_files : bool, optional\n",
      "        When True, the code will be written to one or more files with the\n",
      "        given prefix, otherwise strings with the names and contents of\n",
      "        these files are returned. [default: False]\n",
      "    \n",
      "    header : bool, optional\n",
      "        When True, a header is written on top of each source file.\n",
      "        [default: True]\n",
      "    \n",
      "    empty : bool, optional\n",
      "        When True, empty lines are used to structure the code.\n",
      "        [default: True]\n",
      "    \n",
      "    argument_sequence : iterable, optional\n",
      "        Sequence of arguments for the routine in a preferred order.  A\n",
      "        CodeGenError is raised if required arguments are missing.\n",
      "        Redundant arguments are used without warning.  If omitted,\n",
      "        arguments will be ordered alphabetically, but with all input\n",
      "        arguments first, and then output or in-out arguments.\n",
      "    \n",
      "    global_vars : iterable, optional\n",
      "        Sequence of global variables used by the routine.  Variables\n",
      "        listed here will not show up as function arguments.\n",
      "    \n",
      "    standard : string\n",
      "    \n",
      "    code_gen : CodeGen instance\n",
      "        An instance of a CodeGen subclass. Overrides ``language``.\n",
      "    \n",
      "    Examples\n",
      "    ========\n",
      "    \n",
      "    >>> from sympy.utilities.codegen import codegen\n",
      "    >>> from sympy.abc import x, y, z\n",
      "    >>> [(c_name, c_code), (h_name, c_header)] = codegen(\n",
      "    ...     (\"f\", x+y*z), \"C89\", \"test\", header=False, empty=False)\n",
      "    >>> print(c_name)\n",
      "    test.c\n",
      "    >>> print(c_code)\n",
      "    #include \"test.h\"\n",
      "    #include <math.h>\n",
      "    double f(double x, double y, double z) {\n",
      "       double f_result;\n",
      "       f_result = x + y*z;\n",
      "       return f_result;\n",
      "    }\n",
      "    <BLANKLINE>\n",
      "    >>> print(h_name)\n",
      "    test.h\n",
      "    >>> print(c_header)\n",
      "    #ifndef PROJECT__TEST__H\n",
      "    #define PROJECT__TEST__H\n",
      "    double f(double x, double y, double z);\n",
      "    #endif\n",
      "    <BLANKLINE>\n",
      "    \n",
      "    Another example using Equality objects to give named outputs.  Here the\n",
      "    filename (prefix) is taken from the first (name, expr) pair.\n",
      "    \n",
      "    >>> from sympy.abc import f, g\n",
      "    >>> from sympy import Eq\n",
      "    >>> [(c_name, c_code), (h_name, c_header)] = codegen(\n",
      "    ...      [(\"myfcn\", x + y), (\"fcn2\", [Eq(f, 2*x), Eq(g, y)])],\n",
      "    ...      \"C99\", header=False, empty=False)\n",
      "    >>> print(c_name)\n",
      "    myfcn.c\n",
      "    >>> print(c_code)\n",
      "    #include \"myfcn.h\"\n",
      "    #include <math.h>\n",
      "    double myfcn(double x, double y) {\n",
      "       double myfcn_result;\n",
      "       myfcn_result = x + y;\n",
      "       return myfcn_result;\n",
      "    }\n",
      "    void fcn2(double x, double y, double *f, double *g) {\n",
      "       (*f) = 2*x;\n",
      "       (*g) = y;\n",
      "    }\n",
      "    <BLANKLINE>\n",
      "    \n",
      "    If the generated function(s) will be part of a larger project where various\n",
      "    global variables have been defined, the 'global_vars' option can be used\n",
      "    to remove the specified variables from the function signature\n",
      "    \n",
      "    >>> from sympy.utilities.codegen import codegen\n",
      "    >>> from sympy.abc import x, y, z\n",
      "    >>> [(f_name, f_code), header] = codegen(\n",
      "    ...     (\"f\", x+y*z), \"F95\", header=False, empty=False,\n",
      "    ...     argument_sequence=(x, y), global_vars=(z,))\n",
      "    >>> print(f_code)\n",
      "    REAL*8 function f(x, y)\n",
      "    implicit none\n",
      "    REAL*8, intent(in) :: x\n",
      "    REAL*8, intent(in) :: y\n",
      "    f = x + y*z\n",
      "    end function\n",
      "    <BLANKLINE>\n",
      "\n"
     ]
    }
   ],
   "source": [
    "help(sympy.utilities.codegen.codegen)\n"
   ]
  },
  {
   "attachments": {},
   "cell_type": "markdown",
   "metadata": {},
   "source": [
    "## Další možnosti SymPy\n",
    "\n",
    "Ukázali jsme si základy práce se symbolickými výpočty pomocí SymPy. Není v našich silách ukázat, co všechno SymPy umí -- je toho opravdu hodně. \n",
    "\n",
    "Přehled můžeme získat např. pomocí následujících odkazů:\n",
    "\n",
    "* [SymPy Tutorial](http://docs.sympy.org/latest/tutorial/index.html) - základní tutoriál\n",
    "* [SymPy Documentation](http://docs.sympy.org/latest/index.html) - kompletní dokumentace\n",
    "* [SymPy Live](http://live.sympy.org/) - online SymPy notebook\n",
    "* [SymPy GitHub](https://github.com/sympy/sympy/wiki) - SymPy na GitHubu\n",
    "\n",
    "### Seznam témat které SymPy pokrývá\n",
    "\n",
    "* SymPy Core\n",
    "* Combinatorics Module\n",
    "* Number Theory\n",
    "* Concrete Mathematics\n",
    "* Numerical evaluation\n",
    "* Functions Module\n",
    "* Geometry Module\n",
    "* Geometric Algebra Module\n",
    "* Geometric Algebra Module for SymPy\n",
    "* Extended LaTeXModule for SymPy\n",
    "* Symbolic Integrals\n",
    "* Numeric Integrals\n",
    "* Logic Module\n",
    "* Matrices\n",
    "* Mpmath\n",
    "* Polynomials Manipulation Module\n",
    "* Printing System\n",
    "* Plotting Module\n",
    "* Pyglet Plotting Module\n",
    "* Assumptions module\n",
    "* Term rewriting\n",
    "* Series Expansions\n",
    "* Sets\n",
    "* Simplify\n",
    "* Details on the Hypergeometric Function Expansion Module\n",
    "* Statistics\n",
    "* Stats\n",
    "* ODE\n",
    "* PDE\n",
    "* Solvers\n",
    "* Tensor Module\n",
    "* Utilities\n",
    "* Parsing input\n",
    "* Physics Module\n",
    "* Category Theory Module\n",
    "* Differential Geometry Module\n",
    "* Contributions to docs"
   ]
  },
  {
   "cell_type": "code",
   "execution_count": null,
   "metadata": {},
   "outputs": [],
   "source": []
  }
 ],
 "metadata": {
  "kernelspec": {
   "display_name": "Python 3",
   "language": "python",
   "name": "python3"
  },
  "language_info": {
   "codemirror_mode": {
    "name": "ipython",
    "version": 3
   },
   "file_extension": ".py",
   "mimetype": "text/x-python",
   "name": "python",
   "nbconvert_exporter": "python",
   "pygments_lexer": "ipython3",
   "version": "3.9.7"
  }
 },
 "nbformat": 4,
 "nbformat_minor": 1
}
